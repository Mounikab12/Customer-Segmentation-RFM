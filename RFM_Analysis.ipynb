{
 "cells": [
  {
   "cell_type": "code",
   "execution_count": 1,
   "metadata": {},
   "outputs": [],
   "source": [
    "import pandas as pd\n",
    "import numpy as np\n",
    "import matplotlib.pyplot as plt\n",
    "import seaborn as sns\n",
    "from sklearn.cluster import KMeans\n",
    "from sklearn.preprocessing import StandardScaler, MinMaxScaler\n",
    "from sklearn.preprocessing import StandardScaler\n",
    "from sklearn.metrics import silhouette_score\n",
    "from yellowbrick.cluster import KElbowVisualizer"
   ]
  },
  {
   "cell_type": "code",
   "execution_count": 2,
   "metadata": {},
   "outputs": [
    {
     "data": {
      "text/html": [
       "<div>\n",
       "<style scoped>\n",
       "    .dataframe tbody tr th:only-of-type {\n",
       "        vertical-align: middle;\n",
       "    }\n",
       "\n",
       "    .dataframe tbody tr th {\n",
       "        vertical-align: top;\n",
       "    }\n",
       "\n",
       "    .dataframe thead th {\n",
       "        text-align: right;\n",
       "    }\n",
       "</style>\n",
       "<table border=\"1\" class=\"dataframe\">\n",
       "  <thead>\n",
       "    <tr style=\"text-align: right;\">\n",
       "      <th></th>\n",
       "      <th>CustomerID</th>\n",
       "      <th>ProductID</th>\n",
       "      <th>TransactionID</th>\n",
       "      <th>PurchaseAmount</th>\n",
       "      <th>PurchaseDate</th>\n",
       "      <th>PurchaseTime</th>\n",
       "      <th>PurchaseQuantity</th>\n",
       "      <th>CustomerName</th>\n",
       "      <th>Gender</th>\n",
       "      <th>Adress</th>\n",
       "      <th>...</th>\n",
       "      <th>Number</th>\n",
       "      <th>RegistrationDate</th>\n",
       "      <th>CategoryID</th>\n",
       "      <th>Categories</th>\n",
       "      <th>Products</th>\n",
       "      <th>Prices</th>\n",
       "      <th>StockQuantity</th>\n",
       "      <th>FeedbackID</th>\n",
       "      <th>FeedbackDate</th>\n",
       "      <th>Ratings</th>\n",
       "    </tr>\n",
       "  </thead>\n",
       "  <tbody>\n",
       "    <tr>\n",
       "      <th>0</th>\n",
       "      <td>CUSTIDXX-62149</td>\n",
       "      <td>PRODOXIID94</td>\n",
       "      <td>0</td>\n",
       "      <td>294</td>\n",
       "      <td>20-06-2023</td>\n",
       "      <td>2025-01-30T15:56:00.000Z</td>\n",
       "      <td>2</td>\n",
       "      <td>Kayla Torres</td>\n",
       "      <td>M</td>\n",
       "      <td>141 Nicole Circles Apt. 507</td>\n",
       "      <td>...</td>\n",
       "      <td>413-262-9473</td>\n",
       "      <td>28-10-2021</td>\n",
       "      <td>CATOID00XX10</td>\n",
       "      <td>Pasta Rice and Grains</td>\n",
       "      <td>Lentils</td>\n",
       "      <td>1.30</td>\n",
       "      <td>75</td>\n",
       "      <td>FEDBXXID-0</td>\n",
       "      <td>12-03-2018</td>\n",
       "      <td>3</td>\n",
       "    </tr>\n",
       "    <tr>\n",
       "      <th>1</th>\n",
       "      <td>CUSTIDXX-45943</td>\n",
       "      <td>PRODOXIID22</td>\n",
       "      <td>1</td>\n",
       "      <td>125</td>\n",
       "      <td>03-09-2019</td>\n",
       "      <td>2025-01-30T14:40:00.000Z</td>\n",
       "      <td>10</td>\n",
       "      <td>Brian Weiss</td>\n",
       "      <td>F</td>\n",
       "      <td>2510 Robert Garden Apt. 316</td>\n",
       "      <td>...</td>\n",
       "      <td>786.640.2568x939</td>\n",
       "      <td>16-01-2024</td>\n",
       "      <td>CATOID00XX3</td>\n",
       "      <td>Meat and Seafood</td>\n",
       "      <td>Pork</td>\n",
       "      <td>6.00</td>\n",
       "      <td>1</td>\n",
       "      <td>FEDBXXID-1</td>\n",
       "      <td>26-09-2023</td>\n",
       "      <td>5</td>\n",
       "    </tr>\n",
       "    <tr>\n",
       "      <th>2</th>\n",
       "      <td>CUSTIDXX-52617</td>\n",
       "      <td>PRODOXIID42</td>\n",
       "      <td>2</td>\n",
       "      <td>828</td>\n",
       "      <td>26-08-2017</td>\n",
       "      <td>2025-01-30T12:34:00.000Z</td>\n",
       "      <td>7</td>\n",
       "      <td>Samantha Wagner</td>\n",
       "      <td>F</td>\n",
       "      <td>973 Perez Pass Suite 421</td>\n",
       "      <td>...</td>\n",
       "      <td>001-819-914-9252x34806</td>\n",
       "      <td>29-09-2022</td>\n",
       "      <td>CATOID00XX5</td>\n",
       "      <td>Frozen Foods</td>\n",
       "      <td>Frozen Meals</td>\n",
       "      <td>15.00</td>\n",
       "      <td>30</td>\n",
       "      <td>FEDBXXID-2</td>\n",
       "      <td>17-10-2022</td>\n",
       "      <td>5</td>\n",
       "    </tr>\n",
       "    <tr>\n",
       "      <th>3</th>\n",
       "      <td>CUSTIDXX-2768</td>\n",
       "      <td>PRODOXIID64</td>\n",
       "      <td>3</td>\n",
       "      <td>566</td>\n",
       "      <td>25-01-2023</td>\n",
       "      <td>2025-01-30T00:54:00.000Z</td>\n",
       "      <td>22</td>\n",
       "      <td>Karen Wise</td>\n",
       "      <td>F</td>\n",
       "      <td>87415 Hill Plaza</td>\n",
       "      <td>...</td>\n",
       "      <td>421.232.6359x04551</td>\n",
       "      <td>21-04-2017</td>\n",
       "      <td>CATOID00XX7</td>\n",
       "      <td>Snacks and Beverages</td>\n",
       "      <td>Nuts</td>\n",
       "      <td>8.98</td>\n",
       "      <td>53</td>\n",
       "      <td>FEDBXXID-3</td>\n",
       "      <td>05-12-2019</td>\n",
       "      <td>5</td>\n",
       "    </tr>\n",
       "    <tr>\n",
       "      <th>4</th>\n",
       "      <td>CUSTIDXX-4036</td>\n",
       "      <td>PRODOXIID104</td>\n",
       "      <td>4</td>\n",
       "      <td>790</td>\n",
       "      <td>19-04-2023</td>\n",
       "      <td>2025-01-30T04:10:00.000Z</td>\n",
       "      <td>16</td>\n",
       "      <td>Tiffany Glover</td>\n",
       "      <td>M</td>\n",
       "      <td>67551 Pamela Rest Apt. 216</td>\n",
       "      <td>...</td>\n",
       "      <td>505-592-3515</td>\n",
       "      <td>18-01-2018</td>\n",
       "      <td>CATOID00XX11</td>\n",
       "      <td>Baking Supplies</td>\n",
       "      <td>Vanilla Extract</td>\n",
       "      <td>1.29</td>\n",
       "      <td>52</td>\n",
       "      <td>FEDBXXID-4</td>\n",
       "      <td>16-04-2022</td>\n",
       "      <td>1</td>\n",
       "    </tr>\n",
       "  </tbody>\n",
       "</table>\n",
       "<p>5 rows × 21 columns</p>\n",
       "</div>"
      ],
      "text/plain": [
       "       CustomerID     ProductID  TransactionID  PurchaseAmount PurchaseDate  \\\n",
       "0  CUSTIDXX-62149   PRODOXIID94              0             294   20-06-2023   \n",
       "1  CUSTIDXX-45943   PRODOXIID22              1             125   03-09-2019   \n",
       "2  CUSTIDXX-52617   PRODOXIID42              2             828   26-08-2017   \n",
       "3   CUSTIDXX-2768   PRODOXIID64              3             566   25-01-2023   \n",
       "4   CUSTIDXX-4036  PRODOXIID104              4             790   19-04-2023   \n",
       "\n",
       "               PurchaseTime  PurchaseQuantity     CustomerName Gender  \\\n",
       "0  2025-01-30T15:56:00.000Z                 2     Kayla Torres      M   \n",
       "1  2025-01-30T14:40:00.000Z                10      Brian Weiss      F   \n",
       "2  2025-01-30T12:34:00.000Z                 7  Samantha Wagner      F   \n",
       "3  2025-01-30T00:54:00.000Z                22       Karen Wise      F   \n",
       "4  2025-01-30T04:10:00.000Z                16   Tiffany Glover      M   \n",
       "\n",
       "                        Adress  ...                  Number RegistrationDate  \\\n",
       "0  141 Nicole Circles Apt. 507  ...            413-262-9473       28-10-2021   \n",
       "1  2510 Robert Garden Apt. 316  ...        786.640.2568x939       16-01-2024   \n",
       "2     973 Perez Pass Suite 421  ...  001-819-914-9252x34806       29-09-2022   \n",
       "3             87415 Hill Plaza  ...      421.232.6359x04551       21-04-2017   \n",
       "4   67551 Pamela Rest Apt. 216  ...            505-592-3515       18-01-2018   \n",
       "\n",
       "     CategoryID             Categories             Products Prices  \\\n",
       "0  CATOID00XX10  Pasta Rice and Grains              Lentils   1.30   \n",
       "1   CATOID00XX3       Meat and Seafood                 Pork   6.00   \n",
       "2   CATOID00XX5           Frozen Foods         Frozen Meals  15.00   \n",
       "3   CATOID00XX7   Snacks and Beverages                 Nuts   8.98   \n",
       "4  CATOID00XX11        Baking Supplies      Vanilla Extract   1.29   \n",
       "\n",
       "   StockQuantity  FeedbackID FeedbackDate Ratings  \n",
       "0             75  FEDBXXID-0   12-03-2018       3  \n",
       "1              1  FEDBXXID-1   26-09-2023       5  \n",
       "2             30  FEDBXXID-2   17-10-2022       5  \n",
       "3             53  FEDBXXID-3   05-12-2019       5  \n",
       "4             52  FEDBXXID-4   16-04-2022       1  \n",
       "\n",
       "[5 rows x 21 columns]"
      ]
     },
     "execution_count": 2,
     "metadata": {},
     "output_type": "execute_result"
    }
   ],
   "source": [
    "df = pd.read_csv(\"consolidated.csv\", encoding='latin1')\n",
    "df.head()"
   ]
  },
  {
   "cell_type": "code",
   "execution_count": 3,
   "metadata": {},
   "outputs": [
    {
     "name": "stdout",
     "output_type": "stream",
     "text": [
      "<class 'pandas.core.frame.DataFrame'>\n",
      "RangeIndex: 99653 entries, 0 to 99652\n",
      "Data columns (total 21 columns):\n",
      " #   Column            Non-Null Count  Dtype  \n",
      "---  ------            --------------  -----  \n",
      " 0   CustomerID        99653 non-null  object \n",
      " 1   ProductID         99653 non-null  object \n",
      " 2   TransactionID     99653 non-null  int64  \n",
      " 3   PurchaseAmount    99653 non-null  int64  \n",
      " 4   PurchaseDate      99653 non-null  object \n",
      " 5   PurchaseTime      99653 non-null  object \n",
      " 6   PurchaseQuantity  99653 non-null  int64  \n",
      " 7   CustomerName      99653 non-null  object \n",
      " 8   Gender            99653 non-null  object \n",
      " 9   Adress            99653 non-null  object \n",
      " 10  Email             99653 non-null  object \n",
      " 11  Number            99653 non-null  object \n",
      " 12  RegistrationDate  99653 non-null  object \n",
      " 13  CategoryID        99653 non-null  object \n",
      " 14  Categories        99653 non-null  object \n",
      " 15  Products          99653 non-null  object \n",
      " 16  Prices            99653 non-null  float64\n",
      " 17  StockQuantity     99653 non-null  int64  \n",
      " 18  FeedbackID        99653 non-null  object \n",
      " 19  FeedbackDate      99653 non-null  object \n",
      " 20  Ratings           99653 non-null  int64  \n",
      "dtypes: float64(1), int64(5), object(15)\n",
      "memory usage: 16.0+ MB\n",
      "None\n"
     ]
    }
   ],
   "source": [
    "print(df.info())"
   ]
  },
  {
   "cell_type": "code",
   "execution_count": 4,
   "metadata": {},
   "outputs": [
    {
     "name": "stderr",
     "output_type": "stream",
     "text": [
      "C:\\Users\\bsaim\\AppData\\Local\\Temp\\ipykernel_8900\\1264166246.py:2: UserWarning: Parsing dates in %d-%m-%Y format when dayfirst=False (the default) was specified. Pass `dayfirst=True` or specify a format to silence this warning.\n",
      "  df['PurchaseDate'] = pd.to_datetime(df['PurchaseDate']).dt.date\n"
     ]
    }
   ],
   "source": [
    "# Convert Purchase Date to datetime format\n",
    "df['PurchaseDate'] = pd.to_datetime(df['PurchaseDate']).dt.date"
   ]
  },
  {
   "cell_type": "code",
   "execution_count": 5,
   "metadata": {},
   "outputs": [
    {
     "name": "stdout",
     "output_type": "stream",
     "text": [
      "2024-03-22\n"
     ]
    }
   ],
   "source": [
    "# Define the latest purchase date for recency calculation\n",
    "Recent_date = df['PurchaseDate'].max()\n",
    "print(Recent_date)"
   ]
  },
  {
   "cell_type": "markdown",
   "metadata": {},
   "source": [
    "**Simple Quartile Method**"
   ]
  },
  {
   "cell_type": "code",
   "execution_count": 6,
   "metadata": {},
   "outputs": [
    {
     "data": {
      "text/html": [
       "<div>\n",
       "<style scoped>\n",
       "    .dataframe tbody tr th:only-of-type {\n",
       "        vertical-align: middle;\n",
       "    }\n",
       "\n",
       "    .dataframe tbody tr th {\n",
       "        vertical-align: top;\n",
       "    }\n",
       "\n",
       "    .dataframe thead th {\n",
       "        text-align: right;\n",
       "    }\n",
       "</style>\n",
       "<table border=\"1\" class=\"dataframe\">\n",
       "  <thead>\n",
       "    <tr style=\"text-align: right;\">\n",
       "      <th></th>\n",
       "      <th>CustomerID</th>\n",
       "      <th>Recency</th>\n",
       "      <th>Frequency</th>\n",
       "      <th>Monetary</th>\n",
       "    </tr>\n",
       "  </thead>\n",
       "  <tbody>\n",
       "    <tr>\n",
       "      <th>0</th>\n",
       "      <td>CUSTIDXX-0</td>\n",
       "      <td>78</td>\n",
       "      <td>3</td>\n",
       "      <td>2991</td>\n",
       "    </tr>\n",
       "    <tr>\n",
       "      <th>1</th>\n",
       "      <td>CUSTIDXX-1</td>\n",
       "      <td>2024</td>\n",
       "      <td>1</td>\n",
       "      <td>32</td>\n",
       "    </tr>\n",
       "    <tr>\n",
       "      <th>2</th>\n",
       "      <td>CUSTIDXX-10</td>\n",
       "      <td>522</td>\n",
       "      <td>2</td>\n",
       "      <td>1925</td>\n",
       "    </tr>\n",
       "    <tr>\n",
       "      <th>3</th>\n",
       "      <td>CUSTIDXX-100</td>\n",
       "      <td>235</td>\n",
       "      <td>4</td>\n",
       "      <td>4581</td>\n",
       "    </tr>\n",
       "    <tr>\n",
       "      <th>4</th>\n",
       "      <td>CUSTIDXX-10000</td>\n",
       "      <td>504</td>\n",
       "      <td>2</td>\n",
       "      <td>2313</td>\n",
       "    </tr>\n",
       "  </tbody>\n",
       "</table>\n",
       "</div>"
      ],
      "text/plain": [
       "       CustomerID  Recency  Frequency  Monetary\n",
       "0      CUSTIDXX-0       78          3      2991\n",
       "1      CUSTIDXX-1     2024          1        32\n",
       "2     CUSTIDXX-10      522          2      1925\n",
       "3    CUSTIDXX-100      235          4      4581\n",
       "4  CUSTIDXX-10000      504          2      2313"
      ]
     },
     "execution_count": 6,
     "metadata": {},
     "output_type": "execute_result"
    }
   ],
   "source": [
    "# Calculate RFM Metrics\n",
    "rfm_sqm = df.groupby('CustomerID').agg({\n",
    "    'PurchaseDate': lambda x: (Recent_date - x.max()).days,  # Recency\n",
    "    'TransactionID': 'nunique',  # Frequency (Unique Orders)\n",
    "    'PurchaseAmount': 'sum'  # Monetary (Total Spending)\n",
    "}).reset_index()\n",
    "\n",
    "rfm_sqm.columns = ['CustomerID', 'Recency', 'Frequency', 'Monetary']\n",
    "rfm_sqm.head()"
   ]
  },
  {
   "cell_type": "code",
   "execution_count": 7,
   "metadata": {},
   "outputs": [
    {
     "data": {
      "text/html": [
       "<div>\n",
       "<style scoped>\n",
       "    .dataframe tbody tr th:only-of-type {\n",
       "        vertical-align: middle;\n",
       "    }\n",
       "\n",
       "    .dataframe tbody tr th {\n",
       "        vertical-align: top;\n",
       "    }\n",
       "\n",
       "    .dataframe thead th {\n",
       "        text-align: right;\n",
       "    }\n",
       "</style>\n",
       "<table border=\"1\" class=\"dataframe\">\n",
       "  <thead>\n",
       "    <tr style=\"text-align: right;\">\n",
       "      <th></th>\n",
       "      <th>CustomerID</th>\n",
       "      <th>Recency</th>\n",
       "      <th>Frequency</th>\n",
       "      <th>Monetary</th>\n",
       "      <th>R_Score</th>\n",
       "      <th>F_Score</th>\n",
       "      <th>M_Score</th>\n",
       "    </tr>\n",
       "  </thead>\n",
       "  <tbody>\n",
       "    <tr>\n",
       "      <th>0</th>\n",
       "      <td>CUSTIDXX-0</td>\n",
       "      <td>78</td>\n",
       "      <td>3</td>\n",
       "      <td>2991</td>\n",
       "      <td>4</td>\n",
       "      <td>4</td>\n",
       "      <td>4</td>\n",
       "    </tr>\n",
       "    <tr>\n",
       "      <th>1</th>\n",
       "      <td>CUSTIDXX-1</td>\n",
       "      <td>2024</td>\n",
       "      <td>1</td>\n",
       "      <td>32</td>\n",
       "      <td>1</td>\n",
       "      <td>1</td>\n",
       "      <td>1</td>\n",
       "    </tr>\n",
       "    <tr>\n",
       "      <th>2</th>\n",
       "      <td>CUSTIDXX-10</td>\n",
       "      <td>522</td>\n",
       "      <td>2</td>\n",
       "      <td>1925</td>\n",
       "      <td>3</td>\n",
       "      <td>2</td>\n",
       "      <td>3</td>\n",
       "    </tr>\n",
       "    <tr>\n",
       "      <th>3</th>\n",
       "      <td>CUSTIDXX-100</td>\n",
       "      <td>235</td>\n",
       "      <td>4</td>\n",
       "      <td>4581</td>\n",
       "      <td>4</td>\n",
       "      <td>4</td>\n",
       "      <td>4</td>\n",
       "    </tr>\n",
       "    <tr>\n",
       "      <th>4</th>\n",
       "      <td>CUSTIDXX-10000</td>\n",
       "      <td>504</td>\n",
       "      <td>2</td>\n",
       "      <td>2313</td>\n",
       "      <td>3</td>\n",
       "      <td>2</td>\n",
       "      <td>4</td>\n",
       "    </tr>\n",
       "  </tbody>\n",
       "</table>\n",
       "</div>"
      ],
      "text/plain": [
       "       CustomerID  Recency  Frequency  Monetary R_Score F_Score M_Score\n",
       "0      CUSTIDXX-0       78          3      2991       4       4       4\n",
       "1      CUSTIDXX-1     2024          1        32       1       1       1\n",
       "2     CUSTIDXX-10      522          2      1925       3       2       3\n",
       "3    CUSTIDXX-100      235          4      4581       4       4       4\n",
       "4  CUSTIDXX-10000      504          2      2313       3       2       4"
      ]
     },
     "execution_count": 7,
     "metadata": {},
     "output_type": "execute_result"
    }
   ],
   "source": [
    "# Apply Quartile-based segmentation\n",
    "rfm_sqm['R_Score'] = pd.qcut(rfm_sqm['Recency'].rank(method='first'), 4,[4, 3, 2, 1])\n",
    "rfm_sqm['F_Score'] = pd.qcut(rfm_sqm['Frequency'].rank(method='first'), 4, [1, 2, 3, 4])\n",
    "rfm_sqm['M_Score'] = pd.qcut(rfm_sqm['Monetary'].rank(method='first'), 4, [1, 2, 3, 4])\n",
    "rfm_sqm.head()"
   ]
  },
  {
   "cell_type": "code",
   "execution_count": 8,
   "metadata": {},
   "outputs": [],
   "source": [
    "# Select the RFM Scores for Clustering\n",
    "rfm_sqm_cluster = rfm_sqm[['R_Score', 'F_Score', 'M_Score']]\n",
    "\n",
    "# Normalize Data (Standard Scaling is necessary for K-Means)\n",
    "scaler = StandardScaler()\n",
    "rfm_sqm_scaled = scaler.fit_transform(rfm_sqm_cluster)"
   ]
  },
  {
   "cell_type": "code",
   "execution_count": 9,
   "metadata": {},
   "outputs": [
    {
     "data": {
      "image/png": "[encoded data removed]",
      "text/plain": [
       "<Figure size 800x550 with 1 Axes>"
      ]
     },
     "metadata": {},
     "output_type": "display_data"
    },
    {
     "data": {
      "text/plain": [
       "<Axes: title={'center': 'Distortion Score Elbow for KMeans Clustering'}, xlabel='k', ylabel='distortion score'>"
      ]
     },
     "execution_count": 9,
     "metadata": {},
     "output_type": "execute_result"
    }
   ],
   "source": [
    "# Find Optimal K Using Elbow Method\n",
    "model = KMeans(init=\"k-means++\", random_state=42)\n",
    "visualizer = KElbowVisualizer(model, k=(2,10), metric='distortion', timings=False)\n",
    "visualizer.fit(rfm_sqm_scaled)  # Fit the data\n",
    "visualizer.show()"
   ]
  },
  {
   "cell_type": "code",
   "execution_count": 10,
   "metadata": {},
   "outputs": [
    {
     "name": "stdout",
     "output_type": "stream",
     "text": [
      "Optimal Number of Clusters: 4\n"
     ]
    }
   ],
   "source": [
    "# Select the Optimal K (Based on Elbow Point)\n",
    "optimal_k_sqm = visualizer.elbow_value_\n",
    "print(f\"Optimal Number of Clusters: {optimal_k_sqm}\")"
   ]
  },
  {
   "cell_type": "code",
   "execution_count": 11,
   "metadata": {},
   "outputs": [],
   "source": [
    "# Apply K-Means with Optimal K\n",
    "kmeans = KMeans(n_clusters=optimal_k_sqm, random_state=42)\n",
    "rfm_sqm['Cluster'] = kmeans.fit_predict(rfm_sqm_scaled)"
   ]
  },
  {
   "cell_type": "code",
   "execution_count": 12,
   "metadata": {},
   "outputs": [
    {
     "name": "stdout",
     "output_type": "stream",
     "text": [
      "\u001b[4mEvaluation Metrics for SQM with K=4:\u001b[0m\n",
      "Silhouette Score : 0.3762\n",
      "WCSS: 47942.3857\n",
      "Davies-Bouldin Index : 0.9972 \n",
      "Calinski-Harabasz Index : 40972.1145 \n"
     ]
    }
   ],
   "source": [
    "# Evaluate Clustering Performance\n",
    "print(f\"\\033[4mEvaluation Metrics for SQM with K={optimal_k_sqm}:\\033[0m\")\n",
    "silhouette_avg_sqm = silhouette_score(rfm_sqm_scaled, rfm_sqm['Cluster'])\n",
    "print(f\"Silhouette Score : {silhouette_avg_sqm:.4f}\")\n",
    "\n",
    "from sklearn.metrics import davies_bouldin_score, calinski_harabasz_score\n",
    "#Compute WCSS (Within-Cluster Sum of Squares)\n",
    "WCSS_sqm = kmeans.inertia_\n",
    "print(f\"WCSS: {WCSS_sqm:.4f}\")\n",
    "\n",
    "#Compute Davies-Bouldin Index (DBI)\n",
    "dbi_sqm = davies_bouldin_score(rfm_sqm_scaled, rfm_sqm['Cluster'])\n",
    "print(f\"Davies-Bouldin Index : {dbi_sqm:.4f} \")\n",
    "\n",
    "#Compute Calinski-Harabasz Index (CHI)\n",
    "chi_sqm = calinski_harabasz_score(rfm_sqm_scaled, rfm_sqm['Cluster'])\n",
    "print(f\"Calinski-Harabasz Index : {chi_sqm:.4f} \")"
   ]
  },
  {
   "cell_type": "code",
   "execution_count": 13,
   "metadata": {},
   "outputs": [
    {
     "name": "stdout",
     "output_type": "stream",
     "text": [
      "Mean RFM values for each cluster of SQM:\n",
      "   Cluster      Recency  Frequency     Monetary\n",
      "0        0   412.857203   1.335508   873.714153\n",
      "1        1   451.579395   2.946647  2564.487959\n",
      "2        2  1688.801967   1.065202   746.277540\n",
      "3        3  1458.698189   2.043672  1762.675297\n"
     ]
    }
   ],
   "source": [
    "# Group by clusters and calculate the mean RFM values for each cluster\n",
    "cluster_means_sqm = rfm_sqm.groupby('Cluster').agg({\n",
    "    'Recency': 'mean',\n",
    "    'Frequency': 'mean',\n",
    "    'Monetary': 'mean'\n",
    "}).reset_index()\n",
    "\n",
    "print(\"Mean RFM values for each cluster of SQM:\")\n",
    "print(cluster_means_sqm)"
   ]
  },
  {
   "cell_type": "code",
   "execution_count": 14,
   "metadata": {},
   "outputs": [],
   "source": [
    "# Define dynamic thresholds for segmentation\n",
    "recency_threshold = rfm_sqm['Recency'].median()   \n",
    "frequency_threshold = rfm_sqm['Frequency'].median()  \n",
    "monetary_threshold = rfm_sqm['Monetary'].median()  "
   ]
  },
  {
   "cell_type": "code",
   "execution_count": 15,
   "metadata": {},
   "outputs": [],
   "source": [
    "# Assign segment labels based on cluster characteristics\n",
    "def assign_cluster_label(cluster_id):\n",
    "    recency = cluster_means_sqm.loc[cluster_means_sqm['Cluster'] == cluster_id, 'Recency'].values[0]\n",
    "    frequency = cluster_means_sqm.loc[cluster_means_sqm['Cluster'] == cluster_id, 'Frequency'].values[0]\n",
    "    monetary = cluster_means_sqm.loc[cluster_means_sqm['Cluster'] == cluster_id, 'Monetary'].values[0]\n",
    "# Define dynamic segment rules\n",
    "    if recency < recency_threshold and frequency > frequency_threshold and monetary > monetary_threshold:\n",
    "        return \"Best Customers\"  # Recent, frequent, high spenders\n",
    "    elif recency > recency_threshold and frequency < frequency_threshold and monetary < monetary_threshold:\n",
    "        return \"Dormant Customers\"  # Long inactive, low frequency, low spenders\n",
    "    elif recency < recency_threshold and frequency > frequency_threshold and monetary < monetary_threshold:\n",
    "        return \"Frequent Low-Spending\"  # Recent and frequent, but low spending\n",
    "    else:\n",
    "        return \"At-Risk Customers\"  # Moderate or inactive customers"
   ]
  },
  {
   "cell_type": "code",
   "execution_count": 16,
   "metadata": {},
   "outputs": [
    {
     "name": "stdout",
     "output_type": "stream",
     "text": [
      "\u001b[4mSimple Quartile Method Clustering\u001b[0m\n",
      "   Cluster   Customer_Segment\n",
      "0        1     Best Customers\n",
      "1        2  Dormant Customers\n",
      "2        0  At-Risk Customers\n",
      "5        3  At-Risk Customers\n"
     ]
    }
   ],
   "source": [
    "# Map the cluster labels dynamically\n",
    "cluster_labels = {cluster: assign_cluster_label(cluster) for cluster in rfm_sqm['Cluster'].unique()}\n",
    "rfm_sqm['Customer_Segment'] = rfm_sqm['Cluster'].map(cluster_labels)\n",
    "\n",
    "# Display the assigned labels\n",
    "print(\"\\033[4mSimple Quartile Method Clustering\\033[0m\")\n",
    "print(rfm_sqm[['Cluster', 'Customer_Segment']].drop_duplicates())"
   ]
  },
  {
   "cell_type": "markdown",
   "metadata": {},
   "source": [
    "**Separate R, F, M Analysis (Tertiary Segmentation)**"
   ]
  },
  {
   "cell_type": "code",
   "execution_count": 17,
   "metadata": {},
   "outputs": [
    {
     "data": {
      "text/html": [
       "<div>\n",
       "<style scoped>\n",
       "    .dataframe tbody tr th:only-of-type {\n",
       "        vertical-align: middle;\n",
       "    }\n",
       "\n",
       "    .dataframe tbody tr th {\n",
       "        vertical-align: top;\n",
       "    }\n",
       "\n",
       "    .dataframe thead th {\n",
       "        text-align: right;\n",
       "    }\n",
       "</style>\n",
       "<table border=\"1\" class=\"dataframe\">\n",
       "  <thead>\n",
       "    <tr style=\"text-align: right;\">\n",
       "      <th></th>\n",
       "      <th>CustomerID</th>\n",
       "      <th>Recency</th>\n",
       "      <th>Frequency</th>\n",
       "      <th>Monetary</th>\n",
       "    </tr>\n",
       "  </thead>\n",
       "  <tbody>\n",
       "    <tr>\n",
       "      <th>0</th>\n",
       "      <td>CUSTIDXX-0</td>\n",
       "      <td>78</td>\n",
       "      <td>3</td>\n",
       "      <td>2991</td>\n",
       "    </tr>\n",
       "    <tr>\n",
       "      <th>1</th>\n",
       "      <td>CUSTIDXX-1</td>\n",
       "      <td>2024</td>\n",
       "      <td>1</td>\n",
       "      <td>32</td>\n",
       "    </tr>\n",
       "    <tr>\n",
       "      <th>2</th>\n",
       "      <td>CUSTIDXX-10</td>\n",
       "      <td>522</td>\n",
       "      <td>2</td>\n",
       "      <td>1925</td>\n",
       "    </tr>\n",
       "    <tr>\n",
       "      <th>3</th>\n",
       "      <td>CUSTIDXX-100</td>\n",
       "      <td>235</td>\n",
       "      <td>4</td>\n",
       "      <td>4581</td>\n",
       "    </tr>\n",
       "    <tr>\n",
       "      <th>4</th>\n",
       "      <td>CUSTIDXX-10000</td>\n",
       "      <td>504</td>\n",
       "      <td>2</td>\n",
       "      <td>2313</td>\n",
       "    </tr>\n",
       "  </tbody>\n",
       "</table>\n",
       "</div>"
      ],
      "text/plain": [
       "       CustomerID  Recency  Frequency  Monetary\n",
       "0      CUSTIDXX-0       78          3      2991\n",
       "1      CUSTIDXX-1     2024          1        32\n",
       "2     CUSTIDXX-10      522          2      1925\n",
       "3    CUSTIDXX-100      235          4      4581\n",
       "4  CUSTIDXX-10000      504          2      2313"
      ]
     },
     "execution_count": 17,
     "metadata": {},
     "output_type": "execute_result"
    }
   ],
   "source": [
    "rfm_ts = df.copy()\n",
    "# Calculate RFM Metrics\n",
    "rfm_ts = df.groupby('CustomerID').agg({\n",
    "    'PurchaseDate': lambda x: (Recent_date - x.max()).days,  # Recency\n",
    "    'TransactionID': 'nunique',  # Frequency (Unique Orders)\n",
    "    'PurchaseAmount': 'sum'  # Monetary (Total Spending)\n",
    "}).reset_index()\n",
    "\n",
    "rfm_ts.columns = ['CustomerID', 'Recency', 'Frequency', 'Monetary']\n",
    "rfm_ts.head()"
   ]
  },
  {
   "cell_type": "code",
   "execution_count": 18,
   "metadata": {},
   "outputs": [
    {
     "data": {
      "text/html": [
       "<div>\n",
       "<style scoped>\n",
       "    .dataframe tbody tr th:only-of-type {\n",
       "        vertical-align: middle;\n",
       "    }\n",
       "\n",
       "    .dataframe tbody tr th {\n",
       "        vertical-align: top;\n",
       "    }\n",
       "\n",
       "    .dataframe thead th {\n",
       "        text-align: right;\n",
       "    }\n",
       "</style>\n",
       "<table border=\"1\" class=\"dataframe\">\n",
       "  <thead>\n",
       "    <tr style=\"text-align: right;\">\n",
       "      <th></th>\n",
       "      <th>CustomerID</th>\n",
       "      <th>Recency</th>\n",
       "      <th>Frequency</th>\n",
       "      <th>Monetary</th>\n",
       "      <th>R_Score</th>\n",
       "      <th>F_Score</th>\n",
       "      <th>M_Score</th>\n",
       "    </tr>\n",
       "  </thead>\n",
       "  <tbody>\n",
       "    <tr>\n",
       "      <th>0</th>\n",
       "      <td>CUSTIDXX-0</td>\n",
       "      <td>78</td>\n",
       "      <td>3</td>\n",
       "      <td>2991</td>\n",
       "      <td>2</td>\n",
       "      <td>2</td>\n",
       "      <td>2</td>\n",
       "    </tr>\n",
       "    <tr>\n",
       "      <th>1</th>\n",
       "      <td>CUSTIDXX-1</td>\n",
       "      <td>2024</td>\n",
       "      <td>1</td>\n",
       "      <td>32</td>\n",
       "      <td>1</td>\n",
       "      <td>1</td>\n",
       "      <td>1</td>\n",
       "    </tr>\n",
       "    <tr>\n",
       "      <th>2</th>\n",
       "      <td>CUSTIDXX-10</td>\n",
       "      <td>522</td>\n",
       "      <td>2</td>\n",
       "      <td>1925</td>\n",
       "      <td>2</td>\n",
       "      <td>1</td>\n",
       "      <td>2</td>\n",
       "    </tr>\n",
       "    <tr>\n",
       "      <th>3</th>\n",
       "      <td>CUSTIDXX-100</td>\n",
       "      <td>235</td>\n",
       "      <td>4</td>\n",
       "      <td>4581</td>\n",
       "      <td>2</td>\n",
       "      <td>2</td>\n",
       "      <td>2</td>\n",
       "    </tr>\n",
       "    <tr>\n",
       "      <th>4</th>\n",
       "      <td>CUSTIDXX-10000</td>\n",
       "      <td>504</td>\n",
       "      <td>2</td>\n",
       "      <td>2313</td>\n",
       "      <td>2</td>\n",
       "      <td>1</td>\n",
       "      <td>2</td>\n",
       "    </tr>\n",
       "  </tbody>\n",
       "</table>\n",
       "</div>"
      ],
      "text/plain": [
       "       CustomerID  Recency  Frequency  Monetary  R_Score  F_Score  M_Score\n",
       "0      CUSTIDXX-0       78          3      2991        2        2        2\n",
       "1      CUSTIDXX-1     2024          1        32        1        1        1\n",
       "2     CUSTIDXX-10      522          2      1925        2        1        2\n",
       "3    CUSTIDXX-100      235          4      4581        2        2        2\n",
       "4  CUSTIDXX-10000      504          2      2313        2        1        2"
      ]
     },
     "execution_count": 18,
     "metadata": {},
     "output_type": "execute_result"
    }
   ],
   "source": [
    "recency_median = rfm_ts['Recency'].median()\n",
    "frequency_median = rfm_ts['Frequency'].median()\n",
    "monetary_median = rfm_ts['Monetary'].median()\n",
    "\n",
    "rfm_ts['R_Score'] = rfm_ts['Recency'].apply(lambda x: 1 if x > recency_median else 2)\n",
    "rfm_ts['F_Score'] = rfm_ts['Frequency'].apply(lambda x: 2 if x > frequency_median else 1)\n",
    "rfm_ts['M_Score'] = rfm_ts['Monetary'].apply(lambda x: 2 if x > monetary_median else 1)\n",
    "rfm_ts.head()"
   ]
  },
  {
   "cell_type": "code",
   "execution_count": 19,
   "metadata": {},
   "outputs": [],
   "source": [
    "# Select the RFM Scores for Clustering\n",
    "rfm_ts_cluster = rfm_ts[['R_Score', 'F_Score', 'M_Score']]\n",
    "\n",
    "# Normalize Data (Standard Scaling is necessary for K-Means)\n",
    "scaler = StandardScaler()\n",
    "rfm_ts_scaled = scaler.fit_transform(rfm_ts_cluster)"
   ]
  },
  {
   "cell_type": "code",
   "execution_count": 20,
   "metadata": {},
   "outputs": [
    {
     "name": "stderr",
     "output_type": "stream",
     "text": [
      "c:\\Users\\bsaim\\New folder\\Lib\\site-packages\\sklearn\\base.py:1474: ConvergenceWarning: Number of distinct clusters (8) found smaller than n_clusters (9). Possibly due to duplicate points in X.\n",
      "  return fit_method(estimator, *args, **kwargs)\n"
     ]
    },
    {
     "data": {
      "image/png": "[encoded data removed]",
      "text/plain": [
       "<Figure size 800x550 with 1 Axes>"
      ]
     },
     "metadata": {},
     "output_type": "display_data"
    },
    {
     "data": {
      "text/plain": [
       "<Axes: title={'center': 'Distortion Score Elbow for KMeans Clustering'}, xlabel='k', ylabel='distortion score'>"
      ]
     },
     "execution_count": 20,
     "metadata": {},
     "output_type": "execute_result"
    }
   ],
   "source": [
    "# Find Optimal K Using Elbow Method\n",
    "model2 = KMeans(init=\"k-means++\", random_state=42)\n",
    "visualizer2 = KElbowVisualizer(model2, k=(2,10), metric='distortion', timings=False)\n",
    "visualizer2.fit(rfm_ts_scaled)  # Fit the data\n",
    "visualizer2.show()"
   ]
  },
  {
   "cell_type": "code",
   "execution_count": 21,
   "metadata": {},
   "outputs": [
    {
     "name": "stdout",
     "output_type": "stream",
     "text": [
      "Optimal Number of Clusters : 6\n"
     ]
    }
   ],
   "source": [
    "# Select the Optimal K (Based on Elbow Point)\n",
    "optimal_k_ts = visualizer2.elbow_value_\n",
    "print(f\"Optimal Number of Clusters : {optimal_k_ts}\")"
   ]
  },
  {
   "cell_type": "code",
   "execution_count": 22,
   "metadata": {},
   "outputs": [],
   "source": [
    "# Apply K-Means with Optimal K\n",
    "kmeans2 = KMeans(n_clusters=optimal_k_ts, random_state=42)\n",
    "rfm_ts['Cluster'] = kmeans2.fit_predict(rfm_ts_scaled)"
   ]
  },
  {
   "cell_type": "code",
   "execution_count": 23,
   "metadata": {},
   "outputs": [
    {
     "name": "stdout",
     "output_type": "stream",
     "text": [
      "\u001b[4mEvaluation Metrics for TS with K=6:\u001b[0m\n",
      "Silhouette Score for K=6: 0.9741\n",
      "WCSS: 47942.3857\n",
      "Davies-Bouldin Index : 0.1512 \n",
      "Calinski-Harabasz Index : 545279.9516 \n"
     ]
    }
   ],
   "source": [
    "# Evaluate Clustering Performance\n",
    "print(f\"\\033[4mEvaluation Metrics for TS with K={optimal_k_ts}:\\033[0m\")\n",
    "silhouette_avg_ts = silhouette_score(rfm_ts_scaled, rfm_ts['Cluster'])\n",
    "print(f\"Silhouette Score for K={optimal_k_ts}: {silhouette_avg_ts:.4f}\")\n",
    "\n",
    "# Compute WCSS (Within-Cluster Sum of Squares)\n",
    "WCSS_ts = kmeans.inertia_\n",
    "print(f\"WCSS: {WCSS_ts:.4f}\")\n",
    "\n",
    "# Compute Davies-Bouldin Index (DBI)\n",
    "dbi_ts = davies_bouldin_score(rfm_ts_scaled, rfm_ts['Cluster'])\n",
    "print(f\"Davies-Bouldin Index : {dbi_ts:.4f} \")\n",
    "\n",
    "# Compute Calinski-Harabasz Index (CHI)\n",
    "chi_ts = calinski_harabasz_score(rfm_ts_scaled, rfm_ts['Cluster'])\n",
    "print(f\"Calinski-Harabasz Index : {chi_ts:.4f} \")"
   ]
  },
  {
   "cell_type": "code",
   "execution_count": 24,
   "metadata": {},
   "outputs": [
    {
     "name": "stdout",
     "output_type": "stream",
     "text": [
      "Mean RFM values for each cluster for TS:\n",
      "   Cluster      Recency  Frequency     Monetary\n",
      "0        0   414.493268   1.333601   752.288284\n",
      "1        1  1255.536802   3.284898  2630.260152\n",
      "2        2  1659.687556   1.163365   709.865143\n",
      "3        3   352.210770   3.499661  2825.699594\n",
      "4        4   395.339473   1.829031  1893.270852\n",
      "5        5  1516.642913   1.657113  1809.900342\n"
     ]
    }
   ],
   "source": [
    "# Group by clusters and calculate the mean RFM values for each cluster\n",
    "cluster_means_ts = rfm_ts.groupby('Cluster').agg({\n",
    "    'Recency': 'mean',\n",
    "    'Frequency': 'mean',\n",
    "    'Monetary': 'mean'\n",
    "}).reset_index()\n",
    "\n",
    "print(\"Mean RFM values for each cluster for TS:\")\n",
    "print(cluster_means_ts)"
   ]
  },
  {
   "cell_type": "code",
   "execution_count": 25,
   "metadata": {},
   "outputs": [],
   "source": [
    "# Define dynamic thresholds for segmentation for TS\n",
    "recency_threshold2 = rfm_ts['Recency'].median()  \n",
    "frequency_threshold2 = rfm_ts['Frequency'].median()  \n",
    "monetary_threshold2 = rfm_ts['Monetary'].median()  \n",
    "\n",
    "# Assign segment labels based on cluster characteristics (for rfm2)\n",
    "def assign_cluster_label_tertiary(cluster_id):\n",
    "    recency = cluster_means_ts.loc[cluster_means_ts['Cluster'] == cluster_id, 'Recency'].values[0]\n",
    "    frequency = cluster_means_ts.loc[cluster_means_ts['Cluster'] == cluster_id, 'Frequency'].values[0]\n",
    "    monetary = cluster_means_ts.loc[cluster_means_ts['Cluster'] == cluster_id, 'Monetary'].values[0]\n",
    "    \n",
    "    # Define dynamic segment rules\n",
    "    if recency < recency_threshold2 and frequency > frequency_threshold2 and monetary > monetary_threshold2:\n",
    "        return \"Best Customers\"  # Recent, frequent, high spenders\n",
    "    elif recency > recency_threshold2 and frequency < frequency_threshold2 and monetary < monetary_threshold2:\n",
    "        return \"Dormant Customers\"  # Long inactive, low frequency, low spenders\n",
    "    elif recency < recency_threshold2 and frequency > frequency_threshold2 and monetary < monetary_threshold2:\n",
    "        return \"Frequent Low-Spending\"  # Recent and frequent, but low spending\n",
    "    else:\n",
    "        return \"At-Risk Customers\"  # Moderate or inactive customers"
   ]
  },
  {
   "cell_type": "code",
   "execution_count": 26,
   "metadata": {},
   "outputs": [
    {
     "name": "stdout",
     "output_type": "stream",
     "text": [
      "\u001b[4mTeritiry Segmentation Clustering\u001b[0m\n",
      "    Cluster   Customer_Segment\n",
      "0         3     Best Customers\n",
      "1         2  Dormant Customers\n",
      "2         4  At-Risk Customers\n",
      "5         5  At-Risk Customers\n",
      "14        1  At-Risk Customers\n",
      "21        0  At-Risk Customers\n"
     ]
    }
   ],
   "source": [
    "# Map the cluster labels dynamically for rfm2\n",
    "cluster_labels2 = {cluster: assign_cluster_label_tertiary(cluster) for cluster in rfm_ts['Cluster'].unique()}\n",
    "rfm_ts['Customer_Segment'] = rfm_ts['Cluster'].map(cluster_labels2)\n",
    "\n",
    "# Display the assigned labels\n",
    "print(\"\\033[4mTeritiry Segmentation Clustering\\033[0m\")\n",
    "print(rfm_ts[['Cluster', 'Customer_Segment']].drop_duplicates())"
   ]
  },
  {
   "cell_type": "markdown",
   "metadata": {},
   "source": [
    "**Rank & Normalization**"
   ]
  },
  {
   "cell_type": "markdown",
   "metadata": {},
   "source": [
    "Z-score normalization"
   ]
  },
  {
   "cell_type": "code",
   "execution_count": 27,
   "metadata": {},
   "outputs": [
    {
     "data": {
      "text/html": [
       "<div>\n",
       "<style scoped>\n",
       "    .dataframe tbody tr th:only-of-type {\n",
       "        vertical-align: middle;\n",
       "    }\n",
       "\n",
       "    .dataframe tbody tr th {\n",
       "        vertical-align: top;\n",
       "    }\n",
       "\n",
       "    .dataframe thead th {\n",
       "        text-align: right;\n",
       "    }\n",
       "</style>\n",
       "<table border=\"1\" class=\"dataframe\">\n",
       "  <thead>\n",
       "    <tr style=\"text-align: right;\">\n",
       "      <th></th>\n",
       "      <th>CustomerID</th>\n",
       "      <th>Recency</th>\n",
       "      <th>Frequency</th>\n",
       "      <th>Monetary</th>\n",
       "    </tr>\n",
       "  </thead>\n",
       "  <tbody>\n",
       "    <tr>\n",
       "      <th>0</th>\n",
       "      <td>CUSTIDXX-0</td>\n",
       "      <td>78</td>\n",
       "      <td>3</td>\n",
       "      <td>2991</td>\n",
       "    </tr>\n",
       "    <tr>\n",
       "      <th>1</th>\n",
       "      <td>CUSTIDXX-1</td>\n",
       "      <td>2024</td>\n",
       "      <td>1</td>\n",
       "      <td>32</td>\n",
       "    </tr>\n",
       "    <tr>\n",
       "      <th>2</th>\n",
       "      <td>CUSTIDXX-10</td>\n",
       "      <td>522</td>\n",
       "      <td>2</td>\n",
       "      <td>1925</td>\n",
       "    </tr>\n",
       "    <tr>\n",
       "      <th>3</th>\n",
       "      <td>CUSTIDXX-100</td>\n",
       "      <td>235</td>\n",
       "      <td>4</td>\n",
       "      <td>4581</td>\n",
       "    </tr>\n",
       "    <tr>\n",
       "      <th>4</th>\n",
       "      <td>CUSTIDXX-10000</td>\n",
       "      <td>504</td>\n",
       "      <td>2</td>\n",
       "      <td>2313</td>\n",
       "    </tr>\n",
       "  </tbody>\n",
       "</table>\n",
       "</div>"
      ],
      "text/plain": [
       "       CustomerID  Recency  Frequency  Monetary\n",
       "0      CUSTIDXX-0       78          3      2991\n",
       "1      CUSTIDXX-1     2024          1        32\n",
       "2     CUSTIDXX-10      522          2      1925\n",
       "3    CUSTIDXX-100      235          4      4581\n",
       "4  CUSTIDXX-10000      504          2      2313"
      ]
     },
     "execution_count": 27,
     "metadata": {},
     "output_type": "execute_result"
    }
   ],
   "source": [
    "rfm_z = df.copy()\n",
    "# Calculate RFM Metrics\n",
    "rfm_z = df.groupby('CustomerID').agg({\n",
    "    'PurchaseDate': lambda x: (Recent_date - x.max()).days,  # Recency\n",
    "    'TransactionID': 'nunique',  # Frequency (Unique Orders)\n",
    "    'PurchaseAmount': 'sum'  # Monetary (Total Spending)\n",
    "}).reset_index()\n",
    "\n",
    "rfm_z.columns = ['CustomerID', 'Recency', 'Frequency', 'Monetary']\n",
    "rfm_z.head()"
   ]
  },
  {
   "cell_type": "code",
   "execution_count": 28,
   "metadata": {},
   "outputs": [
    {
     "name": "stdout",
     "output_type": "stream",
     "text": [
      "        Recency  Frequency  Monetary  R_Score  F_Score  M_Score  RFM_Score\n",
      "48893  2.219121  -0.868023 -1.452970  52871.5  41160.0  52954.5   146986.0\n",
      "46139  2.220542  -0.868023 -1.451034  52886.5  41160.0  52929.0   146975.5\n",
      "22554  2.186440  -0.868023 -1.457809  52639.0  41160.0  53021.5   146820.5\n",
      "15681  2.206333  -0.868023 -1.446195  52772.0  41160.0  52847.5   146779.5\n",
      "47496  2.214858  -0.868023 -1.441356  52835.5  41160.0  52773.0   146768.5\n"
     ]
    }
   ],
   "source": [
    "# Normalize the RFM values using Z-score normalization\n",
    "scaler = StandardScaler()\n",
    "rfm_z[['Recency', 'Frequency', 'Monetary']] = scaler.fit_transform(rfm_z[['Recency', 'Frequency', 'Monetary']])\n",
    "\n",
    "# Rank the customers based on the normalized values\n",
    "rfm_z['R_Score'] = rfm_z['Recency'].rank(ascending=True)  # Lower Recency = better customer\n",
    "rfm_z['F_Score'] = rfm_z['Frequency'].rank(ascending=False)  # Higher Frequency = better customer\n",
    "rfm_z['M_Score'] = rfm_z['Monetary'].rank(ascending=False)  # Higher Monetary = better customer\n",
    "\n",
    "# Calculate the final RFM score by summing the ranks\n",
    "rfm_z['RFM_Score'] = rfm_z['R_Score'] + rfm_z['F_Score'] + rfm_z['M_Score']\n",
    "\n",
    "# Sort the customers based on the final score (higher score means better customers)\n",
    "rfm_z = rfm_z.sort_values(by='RFM_Score', ascending=False)\n",
    "\n",
    "# Display the final RFM score and customer ranks\n",
    "print(rfm_z[['Recency', 'Frequency', 'Monetary', 'R_Score', 'F_Score', 'M_Score', 'RFM_Score']].head())\n"
   ]
  },
  {
   "cell_type": "code",
   "execution_count": 29,
   "metadata": {},
   "outputs": [],
   "source": [
    "# Select the RFM Scores for Clustering\n",
    "rfm_z_cluster = rfm_z[['R_Score', 'F_Score', 'M_Score']]\n",
    "\n",
    "# Normalize Data (Standard Scaling is necessary for K-Means)\n",
    "scaler = StandardScaler()\n",
    "rfm_z_scaled = scaler.fit_transform(rfm_z_cluster)"
   ]
  },
  {
   "cell_type": "code",
   "execution_count": 30,
   "metadata": {},
   "outputs": [
    {
     "data": {
      "image/png": "[encoded data removed]",
      "text/plain": [
       "<Figure size 800x550 with 1 Axes>"
      ]
     },
     "metadata": {},
     "output_type": "display_data"
    },
    {
     "data": {
      "text/plain": [
       "<Axes: title={'center': 'Distortion Score Elbow for KMeans Clustering'}, xlabel='k', ylabel='distortion score'>"
      ]
     },
     "execution_count": 30,
     "metadata": {},
     "output_type": "execute_result"
    }
   ],
   "source": [
    "# Find Optimal K Using Elbow Method\n",
    "model = KMeans(init=\"k-means++\", random_state=42)\n",
    "visualizer = KElbowVisualizer(model, k=(2, 10), metric='distortion', timings=False)\n",
    "visualizer.fit(rfm_z_scaled)  # Fit the data\n",
    "visualizer.show()"
   ]
  },
  {
   "cell_type": "code",
   "execution_count": 31,
   "metadata": {},
   "outputs": [
    {
     "name": "stdout",
     "output_type": "stream",
     "text": [
      "Optimal Number of Clusters : 4\n"
     ]
    }
   ],
   "source": [
    "# Select the Optimal K (Based on Elbow Point)\n",
    "optimal_k_z = visualizer.elbow_value_\n",
    "print(f\"Optimal Number of Clusters : {optimal_k_z}\")"
   ]
  },
  {
   "cell_type": "code",
   "execution_count": 32,
   "metadata": {},
   "outputs": [],
   "source": [
    "# Apply K-Means with Optimal K\n",
    "kmeans = KMeans(n_clusters=optimal_k_z, random_state=42)\n",
    "rfm_z['Cluster'] = kmeans.fit_predict(rfm_z_scaled)"
   ]
  },
  {
   "cell_type": "code",
   "execution_count": 33,
   "metadata": {},
   "outputs": [
    {
     "name": "stdout",
     "output_type": "stream",
     "text": [
      "\u001b[4mEvaluation Metrics for Z with K=4:\u001b[0m\n",
      "Silhouette Score for K=4 : 0.3751\n",
      "WCSS : 43658.5778\n",
      "Davies-Bouldin Index : 1.0150 \n",
      "Calinski-Harabasz Index : 46727.0248\n"
     ]
    }
   ],
   "source": [
    "# Evaluate Clustering Performance\n",
    "print(f\"\\033[4mEvaluation Metrics for Z with K={optimal_k_z}:\\033[0m\")\n",
    "silhouette_avg_z = silhouette_score(rfm_z_scaled, rfm_z['Cluster'])\n",
    "print(f\"Silhouette Score for K={optimal_k_z} : {silhouette_avg_z:.4f}\")\n",
    "\n",
    "# Compute WCSS (Within-Cluster Sum of Squares)\n",
    "WCSS_z = kmeans.inertia_\n",
    "print(f\"WCSS : {WCSS_z:.4f}\")\n",
    "\n",
    "# Compute Davies-Bouldin Index (DBI)\n",
    "dbi_z = davies_bouldin_score(rfm_z_scaled, rfm_z['Cluster'])\n",
    "print(f\"Davies-Bouldin Index : {dbi_z:.4f} \")\n",
    "\n",
    "# Compute Calinski-Harabasz Index (CHI)\n",
    "chi_z = calinski_harabasz_score(rfm_z_scaled, rfm_z['Cluster'])\n",
    "print(f\"Calinski-Harabasz Index : {chi_z:.4f}\")"
   ]
  },
  {
   "cell_type": "code",
   "execution_count": 34,
   "metadata": {},
   "outputs": [
    {
     "name": "stdout",
     "output_type": "stream",
     "text": [
      "Mean RFM values for each cluster Z:\n",
      "   Cluster   Recency  Frequency  Monetary\n",
      "0        0  0.394481   0.464716  0.459379\n",
      "1        1 -0.758005  -0.588249 -0.683697\n",
      "2        2  1.069020  -0.812703 -0.696199\n",
      "3        3 -0.923888   1.066721  1.016346\n"
     ]
    }
   ],
   "source": [
    "# Group by clusters and calculate the mean RFM values for each cluster\n",
    "cluster_means_z = rfm_z.groupby('Cluster').agg({\n",
    "    'Recency': 'mean',\n",
    "    'Frequency': 'mean',\n",
    "    'Monetary': 'mean'\n",
    "}).reset_index()\n",
    "\n",
    "print(\"Mean RFM values for each cluster Z:\")\n",
    "print(cluster_means_z)"
   ]
  },
  {
   "cell_type": "code",
   "execution_count": 35,
   "metadata": {},
   "outputs": [],
   "source": [
    "# Define dynamic thresholds for segmentation (for rfm3z)\n",
    "recency_threshold = rfm_z['Recency'].median()\n",
    "frequency_threshold = rfm_z['Frequency'].median()\n",
    "monetary_threshold = rfm_z['Monetary'].median()\n",
    "\n",
    "# Assign segment labels based on cluster characteristics (for rfm3z)\n",
    "def assign_cluster_label_zscore(cluster_id):\n",
    "    recency = cluster_means_z.loc[cluster_means_z['Cluster'] == cluster_id, 'Recency'].values[0]\n",
    "    frequency = cluster_means_z.loc[cluster_means_z['Cluster'] == cluster_id, 'Frequency'].values[0]\n",
    "    monetary = cluster_means_z.loc[cluster_means_z['Cluster'] == cluster_id, 'Monetary'].values[0]\n",
    "    \n",
    "    # Define dynamic segment rules\n",
    "    if recency < recency_threshold and frequency > frequency_threshold and monetary > monetary_threshold:\n",
    "        return \"Best Customers\"\n",
    "    elif recency > recency_threshold and frequency < frequency_threshold and monetary < monetary_threshold:\n",
    "        return \"Dormant Customers\"\n",
    "    elif recency < recency_threshold and frequency > frequency_threshold and monetary < monetary_threshold:\n",
    "        return \"Frequent Low-Spending\"\n",
    "    else:\n",
    "        return \"At-Risk Customers\""
   ]
  },
  {
   "cell_type": "code",
   "execution_count": 36,
   "metadata": {},
   "outputs": [
    {
     "name": "stdout",
     "output_type": "stream",
     "text": [
      "\u001b[4mZ-Score Normalization Clustering\u001b[0m\n",
      "       Cluster   Customer_Segment\n",
      "48893        2  Dormant Customers\n",
      "23104        1  At-Risk Customers\n",
      "4622         0  At-Risk Customers\n",
      "246          3     Best Customers\n"
     ]
    }
   ],
   "source": [
    "# Map the cluster labels dynamically for rfm3z\n",
    "cluster_labels_3 = {cluster: assign_cluster_label_zscore(cluster) for cluster in rfm_z['Cluster'].unique()}\n",
    "rfm_z['Customer_Segment'] = rfm_z['Cluster'].map(cluster_labels_3)\n",
    "\n",
    "# Display the assigned labels\n",
    "print(\"\\033[4mZ-Score Normalization Clustering\\033[0m\")\n",
    "print(rfm_z[['Cluster', 'Customer_Segment']].drop_duplicates())\n"
   ]
  },
  {
   "cell_type": "markdown",
   "metadata": {},
   "source": [
    "Min-Max scaling"
   ]
  },
  {
   "cell_type": "code",
   "execution_count": 37,
   "metadata": {},
   "outputs": [
    {
     "data": {
      "text/html": [
       "<div>\n",
       "<style scoped>\n",
       "    .dataframe tbody tr th:only-of-type {\n",
       "        vertical-align: middle;\n",
       "    }\n",
       "\n",
       "    .dataframe tbody tr th {\n",
       "        vertical-align: top;\n",
       "    }\n",
       "\n",
       "    .dataframe thead th {\n",
       "        text-align: right;\n",
       "    }\n",
       "</style>\n",
       "<table border=\"1\" class=\"dataframe\">\n",
       "  <thead>\n",
       "    <tr style=\"text-align: right;\">\n",
       "      <th></th>\n",
       "      <th>CustomerID</th>\n",
       "      <th>Recency</th>\n",
       "      <th>Frequency</th>\n",
       "      <th>Monetary</th>\n",
       "    </tr>\n",
       "  </thead>\n",
       "  <tbody>\n",
       "    <tr>\n",
       "      <th>0</th>\n",
       "      <td>CUSTIDXX-0</td>\n",
       "      <td>78</td>\n",
       "      <td>3</td>\n",
       "      <td>2991</td>\n",
       "    </tr>\n",
       "    <tr>\n",
       "      <th>1</th>\n",
       "      <td>CUSTIDXX-1</td>\n",
       "      <td>2024</td>\n",
       "      <td>1</td>\n",
       "      <td>32</td>\n",
       "    </tr>\n",
       "    <tr>\n",
       "      <th>2</th>\n",
       "      <td>CUSTIDXX-10</td>\n",
       "      <td>522</td>\n",
       "      <td>2</td>\n",
       "      <td>1925</td>\n",
       "    </tr>\n",
       "    <tr>\n",
       "      <th>3</th>\n",
       "      <td>CUSTIDXX-100</td>\n",
       "      <td>235</td>\n",
       "      <td>4</td>\n",
       "      <td>4581</td>\n",
       "    </tr>\n",
       "    <tr>\n",
       "      <th>4</th>\n",
       "      <td>CUSTIDXX-10000</td>\n",
       "      <td>504</td>\n",
       "      <td>2</td>\n",
       "      <td>2313</td>\n",
       "    </tr>\n",
       "  </tbody>\n",
       "</table>\n",
       "</div>"
      ],
      "text/plain": [
       "       CustomerID  Recency  Frequency  Monetary\n",
       "0      CUSTIDXX-0       78          3      2991\n",
       "1      CUSTIDXX-1     2024          1        32\n",
       "2     CUSTIDXX-10      522          2      1925\n",
       "3    CUSTIDXX-100      235          4      4581\n",
       "4  CUSTIDXX-10000      504          2      2313"
      ]
     },
     "execution_count": 37,
     "metadata": {},
     "output_type": "execute_result"
    }
   ],
   "source": [
    "rfm_m = df.copy()\n",
    "# Calculate RFM Metrics\n",
    "rfm_m = df.groupby('CustomerID').agg({\n",
    "    'PurchaseDate': lambda x: (Recent_date - x.max()).days,  # Recency\n",
    "    'TransactionID': 'nunique',  # Frequency (Unique Orders)\n",
    "    'PurchaseAmount': 'sum'  # Monetary (Total Spending)\n",
    "}).reset_index()\n",
    "\n",
    "rfm_m.columns = ['CustomerID', 'Recency', 'Frequency', 'Monetary']\n",
    "rfm_m.head()"
   ]
  },
  {
   "cell_type": "code",
   "execution_count": 38,
   "metadata": {},
   "outputs": [
    {
     "name": "stdout",
     "output_type": "stream",
     "text": [
      "        Recency  Frequency  Monetary  R_Score  F_Score  M_Score  RFM_Score\n",
      "48893  0.994131        0.0  0.000589  52871.5  41160.0  52954.5   146986.0\n",
      "46139  0.994523        0.0  0.000825  52886.5  41160.0  52929.0   146975.5\n",
      "22554  0.985133        0.0  0.000000  52639.0  41160.0  53021.5   146820.5\n",
      "15681  0.990610        0.0  0.001414  52772.0  41160.0  52847.5   146779.5\n",
      "47496  0.992958        0.0  0.002003  52835.5  41160.0  52773.0   146768.5\n"
     ]
    }
   ],
   "source": [
    "from sklearn.preprocessing import MinMaxScaler\n",
    "\n",
    "# Normalize the RFM values using Min-Max scaling\n",
    "scaler = MinMaxScaler()\n",
    "rfm_m[['Recency', 'Frequency', 'Monetary']] = scaler.fit_transform(rfm_m[['Recency', 'Frequency', 'Monetary']])\n",
    "\n",
    "# Rank the customers based on the normalized values\n",
    "rfm_m['R_Score'] = rfm_m['Recency'].rank(ascending=True)  # Lower Recency = better customer\n",
    "rfm_m['F_Score'] = rfm_m['Frequency'].rank(ascending=False)  # Higher Frequency = better customer\n",
    "rfm_m['M_Score'] = rfm_m['Monetary'].rank(ascending=False)  # Higher Monetary = better customer\n",
    "\n",
    "# Calculate the final RFM score by summing the ranks\n",
    "rfm_m['RFM_Score'] = rfm_m['R_Score'] + rfm_m['F_Score'] + rfm_m['M_Score']\n",
    "\n",
    "# Sort the customers based on the final score (higher score means better customers)\n",
    "rfm_m = rfm_m.sort_values(by='RFM_Score', ascending=False)\n",
    "\n",
    "# Display the final RFM score and customer ranks\n",
    "print(rfm_m[['Recency', 'Frequency', 'Monetary', 'R_Score', 'F_Score', 'M_Score', 'RFM_Score']].head())\n"
   ]
  },
  {
   "cell_type": "code",
   "execution_count": 39,
   "metadata": {},
   "outputs": [],
   "source": [
    "# Select the RFM Scores for Clustering\n",
    "rfm_m_cluster = rfm_m[['R_Score', 'F_Score', 'M_Score']]\n",
    "\n",
    "# Normalize Data (Min-Max Scaling)\n",
    "scaler = MinMaxScaler()\n",
    "rfm_m_scaled = scaler.fit_transform(rfm_m_cluster)\n"
   ]
  },
  {
   "cell_type": "code",
   "execution_count": 40,
   "metadata": {},
   "outputs": [
    {
     "data": {
      "image/png": "[encoded data removed]",
      "text/plain": [
       "<Figure size 800x550 with 1 Axes>"
      ]
     },
     "metadata": {},
     "output_type": "display_data"
    },
    {
     "data": {
      "text/plain": [
       "<Axes: title={'center': 'Distortion Score Elbow for KMeans Clustering'}, xlabel='k', ylabel='distortion score'>"
      ]
     },
     "execution_count": 40,
     "metadata": {},
     "output_type": "execute_result"
    }
   ],
   "source": [
    "# Find Optimal K Using Elbow Method\n",
    "model = KMeans(init=\"k-means++\", random_state=42)\n",
    "visualizer = KElbowVisualizer(model, k=(2, 10), metric='distortion', timings=False)\n",
    "visualizer.fit(rfm_m_scaled)  # Fit the data\n",
    "visualizer.show()"
   ]
  },
  {
   "cell_type": "code",
   "execution_count": 41,
   "metadata": {},
   "outputs": [
    {
     "name": "stdout",
     "output_type": "stream",
     "text": [
      "Optimal Number of Clusters : 5\n"
     ]
    }
   ],
   "source": [
    "# Select the Optimal K (Based on Elbow Point)\n",
    "optimal_k_m = visualizer.elbow_value_\n",
    "print(f\"Optimal Number of Clusters : {optimal_k_m}\")"
   ]
  },
  {
   "cell_type": "code",
   "execution_count": 42,
   "metadata": {},
   "outputs": [],
   "source": [
    "# Apply K-Means with Optimal K\n",
    "kmeans = KMeans(n_clusters=optimal_k_m, random_state=42)\n",
    "rfm_m['Cluster'] = kmeans.fit_predict(rfm_m_scaled)"
   ]
  },
  {
   "cell_type": "code",
   "execution_count": 43,
   "metadata": {},
   "outputs": [
    {
     "name": "stdout",
     "output_type": "stream",
     "text": [
      "\u001b[4mEvaluation Metrics for m with K=5:\u001b[0m\n",
      "Silhouette Score : 0.3923\n",
      "WCSS: 3269.4055\n",
      "Davies-Bouldin Index : 0.9762\n",
      "Calinski-Harabasz Index : 48528.7702\n"
     ]
    }
   ],
   "source": [
    "# Evaluate Clustering Performance\n",
    "print(f\"\\033[4mEvaluation Metrics for m with K={optimal_k_m}:\\033[0m\")\n",
    "\n",
    "silhouette_avg_m = silhouette_score(rfm_m_scaled, rfm_m['Cluster'])\n",
    "print(f\"Silhouette Score : {silhouette_avg_m:.4f}\")\n",
    "\n",
    "# Compute WCSS (Within-Cluster Sum of Squares)\n",
    "WCSS_m = kmeans.inertia_\n",
    "print(f\"WCSS: {WCSS_m:.4f}\")\n",
    "\n",
    "# Compute Davies-Bouldin Index (DBI)\n",
    "dbi_m = davies_bouldin_score(rfm_m_scaled, rfm_m['Cluster'])\n",
    "print(f\"Davies-Bouldin Index : {dbi_m:.4f}\")\n",
    "\n",
    "# Compute Calinski-Harabasz Index (CHI)\n",
    "chi_m = calinski_harabasz_score(rfm_m_scaled, rfm_m['Cluster'])\n",
    "print(f\"Calinski-Harabasz Index : {chi_m:.4f}\")"
   ]
  },
  {
   "cell_type": "code",
   "execution_count": 44,
   "metadata": {},
   "outputs": [
    {
     "name": "stdout",
     "output_type": "stream",
     "text": [
      "Mean RFM values for each cluster for M:\n",
      "   Cluster   Recency  Frequency  Monetary\n",
      "0        0  0.143590   0.135694  0.173950\n",
      "1        1  0.189764   0.000000  0.094209\n",
      "2        2  0.692499   0.001521  0.093042\n",
      "3        3  0.535141   0.149699  0.212093\n",
      "4        4  0.177094   0.315796  0.355929\n"
     ]
    }
   ],
   "source": [
    "# Group by clusters and calculate the mean RFM values for each cluster\n",
    "cluster_means_m = rfm_m.groupby('Cluster').agg({\n",
    "    'Recency': 'mean',\n",
    "    'Frequency': 'mean',\n",
    "    'Monetary': 'mean'\n",
    "}).reset_index()\n",
    "\n",
    "print(\"Mean RFM values for each cluster for M:\")\n",
    "print(cluster_means_m)"
   ]
  },
  {
   "cell_type": "code",
   "execution_count": 45,
   "metadata": {},
   "outputs": [],
   "source": [
    "# Define dynamic thresholds for segmentation (for rfm3m)\n",
    "recency_threshold = rfm_m['Recency'].median()\n",
    "frequency_threshold = rfm_m['Frequency'].median()\n",
    "monetary_threshold = rfm_m['Monetary'].median()\n",
    "\n",
    "# Assign segment labels based on cluster characteristics (for rfm3m)\n",
    "def assign_cluster_label_minmax(cluster_id):\n",
    "    recency = cluster_means_m.loc[cluster_means_m['Cluster'] == cluster_id, 'Recency'].values[0]\n",
    "    frequency = cluster_means_m.loc[cluster_means_m['Cluster'] == cluster_id, 'Frequency'].values[0]\n",
    "    monetary = cluster_means_m.loc[cluster_means_m['Cluster'] == cluster_id, 'Monetary'].values[0]\n",
    "    \n",
    "    # Define dynamic segment rules\n",
    "    if recency < recency_threshold and frequency > frequency_threshold and monetary > monetary_threshold:\n",
    "        return \"Best Customers\"\n",
    "    elif recency > recency_threshold and frequency < frequency_threshold and monetary < monetary_threshold:\n",
    "        return \"Dormant Customers\"\n",
    "    elif recency < recency_threshold and frequency > frequency_threshold and monetary < monetary_threshold:\n",
    "        return \"Frequent Low-Spending\"\n",
    "    else:\n",
    "        return \"At-Risk Customers\"\n"
   ]
  },
  {
   "cell_type": "code",
   "execution_count": 46,
   "metadata": {},
   "outputs": [
    {
     "name": "stdout",
     "output_type": "stream",
     "text": [
      "\u001b[4mMin-Max Scaling Clustering\u001b[0m\n",
      "       Cluster   Customer_Segment\n",
      "48893        2  Dormant Customers\n",
      "41152        1  At-Risk Customers\n",
      "43776        3  At-Risk Customers\n",
      "19558        0     Best Customers\n",
      "13780        4     Best Customers\n"
     ]
    }
   ],
   "source": [
    "# Map the cluster labels dynamically for rfm3m\n",
    "cluster_labels_m = {cluster: assign_cluster_label_minmax(cluster) for cluster in rfm_m['Cluster'].unique()}\n",
    "rfm_m['Customer_Segment'] = rfm_m['Cluster'].map(cluster_labels_m)\n",
    "\n",
    "# Display the assigned labels\n",
    "print(\"\\033[4mMin-Max Scaling Clustering\\033[0m\")\n",
    "print(rfm_m[['Cluster', 'Customer_Segment']].drop_duplicates())"
   ]
  },
  {
   "cell_type": "code",
   "execution_count": 47,
   "metadata": {},
   "outputs": [
    {
     "data": {
      "image/png": "[encoded data removed]",
      "text/plain": [
       "<Figure size 1800x600 with 4 Axes>"
      ]
     },
     "metadata": {},
     "output_type": "display_data"
    }
   ],
   "source": [
    "import matplotlib.pyplot as plt\n",
    "import pandas as pd\n",
    "import matplotlib.patches as mpatches\n",
    "\n",
    "# Models\n",
    "models = [\"Simple Quartile\", \"Tertiary Segmentation\", \"Z-score Normalization\", \"Min-Max Scaling\"]\n",
    "\n",
    "# Metrics from your variables\n",
    "silhouette_scores = [silhouette_avg_sqm, silhouette_avg_ts, silhouette_avg_z, silhouette_avg_m]\n",
    "wcss_values = [WCSS_sqm, WCSS_ts, WCSS_z, WCSS_m]\n",
    "dbi_values = [dbi_sqm, dbi_ts, dbi_z, dbi_m]\n",
    "chi_values = [chi_sqm, chi_ts, chi_z, chi_m]\n",
    "optimal_clusters = [optimal_k_sqm, optimal_k_ts, optimal_k_z, optimal_k_m]\n",
    "\n",
    "# Create a DataFrame for easy visualization in table format\n",
    "metrics_df = pd.DataFrame({\n",
    "    \"Model\": models,\n",
    "    \"Optimal Clusters\": optimal_clusters,\n",
    "    \"Silhouette Score\": silhouette_scores,\n",
    "    \"WCSS\": wcss_values,\n",
    "    \"Davies-Bouldin Index\": dbi_values,\n",
    "    \"Calinski-Harabasz Index\": chi_values,\n",
    "    \n",
    "})\n",
    "\n",
    "# Set figure size (single row of 4 plots)\n",
    "fig, axes = plt.subplots(1, 4, figsize=(18, 6))  # 1 row, 4 columns for subplots\n",
    "\n",
    "# Bar width for better visualization\n",
    "bar_width = 0.35\n",
    "\n",
    "# Colors for different models\n",
    "colors = [\"royalblue\", \"seagreen\", \"crimson\", \"darkorange\"]\n",
    "\n",
    "# Bar Plot: Silhouette Score**\n",
    "bars = axes[0].bar(models, silhouette_scores, color=colors, width=bar_width)\n",
    "axes[0].set_title(\"Silhouette Score Comparison\", fontsize=14, fontweight=\"bold\")\n",
    "axes[0].set_ylabel(\"Silhouette Score\")\n",
    "axes[0].grid(axis=\"y\", linestyle=\"--\", alpha=0.7)\n",
    "axes[0].set_xticks([])  # Remove model names from x-axis\n",
    "for bar in bars:\n",
    "    yval = bar.get_height()\n",
    "    axes[0].text(bar.get_x() + bar.get_width() / 2, yval + 0.02, round(yval, 4), ha=\"center\", va=\"bottom\", fontsize=10)\n",
    "\n",
    "# Bar Plot: Davies-Bouldin Index**\n",
    "bars = axes[1].bar(models, dbi_values, color=colors, width=bar_width)\n",
    "axes[1].set_title(\"Davies-Bouldin Index Comparison\", fontsize=14, fontweight=\"bold\")\n",
    "axes[1].set_ylabel(\"Davies-Bouldin Index\")\n",
    "axes[1].grid(axis=\"y\", linestyle=\"--\", alpha=0.7)\n",
    "axes[1].set_xticks([])  # Remove model names from x-axis\n",
    "for bar in bars:\n",
    "    yval = bar.get_height()\n",
    "    axes[1].text(bar.get_x() + bar.get_width() / 2, yval + 0.02, round(yval, 4), ha=\"center\", va=\"bottom\", fontsize=10)\n",
    "\n",
    "# Bar Plot: Calinski-Harabasz Index**\n",
    "bars = axes[2].bar(models, chi_values, color=colors, width=bar_width)\n",
    "axes[2].set_title(\"Calinski-Harabasz Index Comparison\", fontsize=14, fontweight=\"bold\")\n",
    "axes[2].set_ylabel(\"Calinski-Harabasz Index\")\n",
    "axes[2].grid(axis=\"y\", linestyle=\"--\", alpha=0.7)\n",
    "axes[2].set_xticks([])  # Remove model names from x-axis\n",
    "for bar in bars:\n",
    "    yval = bar.get_height()\n",
    "    axes[2].text(bar.get_x() + bar.get_width() / 2, yval + 0.02, round(yval, 4), ha=\"center\", va=\"bottom\", fontsize=10)\n",
    "\n",
    "# Bar Plot: WCSS**\n",
    "bars = axes[3].bar(models, wcss_values, color=colors, width=bar_width)\n",
    "axes[3].set_title(\"WCSS Comparison\", fontsize=14, fontweight=\"bold\")\n",
    "axes[3].set_ylabel(\"WCSS\")\n",
    "axes[3].grid(axis=\"y\", linestyle=\"--\", alpha=0.7)\n",
    "axes[3].set_xticks([])  # Remove model names from x-axis\n",
    "for bar in bars:\n",
    "    yval = bar.get_height()\n",
    "    axes[3].text(bar.get_x() + bar.get_width() / 2, yval + 0.02, round(yval, 2), ha=\"center\", va=\"bottom\", fontsize=10)\n",
    "\n",
    "# Adding a legend \n",
    "legend_labels = [f\"{model} [k={k}]\" for model, k in zip(models, optimal_clusters)]\n",
    "fig.legend([mpatches.Patch(color=color) for color in colors], legend_labels, title=\"Models\", bbox_to_anchor=(0.5, 1.05), loc=\"center\", ncol=4)\n",
    "\n",
    "# Adjust layout to ensure everything fits well\n",
    "plt.tight_layout()\n",
    "plt.show()\n"
   ]
  },
  {
   "cell_type": "code",
   "execution_count": 48,
   "metadata": {},
   "outputs": [
    {
     "data": {
      "text/html": [
       "<div>\n",
       "<style scoped>\n",
       "    .dataframe tbody tr th:only-of-type {\n",
       "        vertical-align: middle;\n",
       "    }\n",
       "\n",
       "    .dataframe tbody tr th {\n",
       "        vertical-align: top;\n",
       "    }\n",
       "\n",
       "    .dataframe thead th {\n",
       "        text-align: right;\n",
       "    }\n",
       "</style>\n",
       "<table border=\"1\" class=\"dataframe\">\n",
       "  <thead>\n",
       "    <tr style=\"text-align: right;\">\n",
       "      <th></th>\n",
       "      <th>Model</th>\n",
       "      <th>Optimal Clusters</th>\n",
       "      <th>Silhouette Score</th>\n",
       "      <th>WCSS</th>\n",
       "      <th>Davies-Bouldin Index</th>\n",
       "      <th>Calinski-Harabasz Index</th>\n",
       "    </tr>\n",
       "  </thead>\n",
       "  <tbody>\n",
       "    <tr>\n",
       "      <th>0</th>\n",
       "      <td>Simple Quartile</td>\n",
       "      <td>4</td>\n",
       "      <td>0.376201</td>\n",
       "      <td>47942.385690</td>\n",
       "      <td>0.997186</td>\n",
       "      <td>40972.114492</td>\n",
       "    </tr>\n",
       "    <tr>\n",
       "      <th>1</th>\n",
       "      <td>Tertiary Segmentation</td>\n",
       "      <td>6</td>\n",
       "      <td>0.974123</td>\n",
       "      <td>47942.385690</td>\n",
       "      <td>0.151203</td>\n",
       "      <td>545279.951647</td>\n",
       "    </tr>\n",
       "    <tr>\n",
       "      <th>2</th>\n",
       "      <td>Z-score Normalization</td>\n",
       "      <td>4</td>\n",
       "      <td>0.375112</td>\n",
       "      <td>43658.577777</td>\n",
       "      <td>1.014960</td>\n",
       "      <td>46727.024758</td>\n",
       "    </tr>\n",
       "    <tr>\n",
       "      <th>3</th>\n",
       "      <td>Min-Max Scaling</td>\n",
       "      <td>5</td>\n",
       "      <td>0.392332</td>\n",
       "      <td>3269.405481</td>\n",
       "      <td>0.976217</td>\n",
       "      <td>48528.770176</td>\n",
       "    </tr>\n",
       "  </tbody>\n",
       "</table>\n",
       "</div>"
      ],
      "text/plain": [
       "                   Model  Optimal Clusters  Silhouette Score          WCSS  \\\n",
       "0        Simple Quartile                 4          0.376201  47942.385690   \n",
       "1  Tertiary Segmentation                 6          0.974123  47942.385690   \n",
       "2  Z-score Normalization                 4          0.375112  43658.577777   \n",
       "3        Min-Max Scaling                 5          0.392332   3269.405481   \n",
       "\n",
       "   Davies-Bouldin Index  Calinski-Harabasz Index  \n",
       "0              0.997186             40972.114492  \n",
       "1              0.151203            545279.951647  \n",
       "2              1.014960             46727.024758  \n",
       "3              0.976217             48528.770176  "
      ]
     },
     "execution_count": 48,
     "metadata": {},
     "output_type": "execute_result"
    }
   ],
   "source": [
    "metrics_df"
   ]
  },
  {
   "cell_type": "code",
   "execution_count": 49,
   "metadata": {},
   "outputs": [
    {
     "data": {
      "text/html": [
       "<div>\n",
       "<style scoped>\n",
       "    .dataframe tbody tr th:only-of-type {\n",
       "        vertical-align: middle;\n",
       "    }\n",
       "\n",
       "    .dataframe tbody tr th {\n",
       "        vertical-align: top;\n",
       "    }\n",
       "\n",
       "    .dataframe thead th {\n",
       "        text-align: right;\n",
       "    }\n",
       "</style>\n",
       "<table border=\"1\" class=\"dataframe\">\n",
       "  <thead>\n",
       "    <tr style=\"text-align: right;\">\n",
       "      <th></th>\n",
       "      <th>CustomerID</th>\n",
       "      <th>ProductID</th>\n",
       "      <th>TransactionID</th>\n",
       "      <th>PurchaseAmount</th>\n",
       "      <th>PurchaseDate</th>\n",
       "      <th>PurchaseTime</th>\n",
       "      <th>PurchaseQuantity</th>\n",
       "      <th>CustomerName</th>\n",
       "      <th>Gender</th>\n",
       "      <th>Adress</th>\n",
       "      <th>...</th>\n",
       "      <th>RegistrationDate</th>\n",
       "      <th>CategoryID</th>\n",
       "      <th>Categories</th>\n",
       "      <th>Products</th>\n",
       "      <th>Prices</th>\n",
       "      <th>StockQuantity</th>\n",
       "      <th>FeedbackID</th>\n",
       "      <th>FeedbackDate</th>\n",
       "      <th>Ratings</th>\n",
       "      <th>Customer_Segment</th>\n",
       "    </tr>\n",
       "  </thead>\n",
       "  <tbody>\n",
       "    <tr>\n",
       "      <th>0</th>\n",
       "      <td>CUSTIDXX-62149</td>\n",
       "      <td>PRODOXIID94</td>\n",
       "      <td>0</td>\n",
       "      <td>294</td>\n",
       "      <td>2023-06-20</td>\n",
       "      <td>2025-01-30T15:56:00.000Z</td>\n",
       "      <td>2</td>\n",
       "      <td>Kayla Torres</td>\n",
       "      <td>M</td>\n",
       "      <td>141 Nicole Circles Apt. 507</td>\n",
       "      <td>...</td>\n",
       "      <td>28-10-2021</td>\n",
       "      <td>CATOID00XX10</td>\n",
       "      <td>Pasta Rice and Grains</td>\n",
       "      <td>Lentils</td>\n",
       "      <td>1.30</td>\n",
       "      <td>75</td>\n",
       "      <td>FEDBXXID-0</td>\n",
       "      <td>12-03-2018</td>\n",
       "      <td>3</td>\n",
       "      <td>At-Risk Customers</td>\n",
       "    </tr>\n",
       "    <tr>\n",
       "      <th>1</th>\n",
       "      <td>CUSTIDXX-45943</td>\n",
       "      <td>PRODOXIID22</td>\n",
       "      <td>1</td>\n",
       "      <td>125</td>\n",
       "      <td>2019-09-03</td>\n",
       "      <td>2025-01-30T14:40:00.000Z</td>\n",
       "      <td>10</td>\n",
       "      <td>Brian Weiss</td>\n",
       "      <td>F</td>\n",
       "      <td>2510 Robert Garden Apt. 316</td>\n",
       "      <td>...</td>\n",
       "      <td>16-01-2024</td>\n",
       "      <td>CATOID00XX3</td>\n",
       "      <td>Meat and Seafood</td>\n",
       "      <td>Pork</td>\n",
       "      <td>6.00</td>\n",
       "      <td>1</td>\n",
       "      <td>FEDBXXID-1</td>\n",
       "      <td>26-09-2023</td>\n",
       "      <td>5</td>\n",
       "      <td>Dormant Customers</td>\n",
       "    </tr>\n",
       "    <tr>\n",
       "      <th>2</th>\n",
       "      <td>CUSTIDXX-52617</td>\n",
       "      <td>PRODOXIID42</td>\n",
       "      <td>2</td>\n",
       "      <td>828</td>\n",
       "      <td>2017-08-26</td>\n",
       "      <td>2025-01-30T12:34:00.000Z</td>\n",
       "      <td>7</td>\n",
       "      <td>Samantha Wagner</td>\n",
       "      <td>F</td>\n",
       "      <td>973 Perez Pass Suite 421</td>\n",
       "      <td>...</td>\n",
       "      <td>29-09-2022</td>\n",
       "      <td>CATOID00XX5</td>\n",
       "      <td>Frozen Foods</td>\n",
       "      <td>Frozen Meals</td>\n",
       "      <td>15.00</td>\n",
       "      <td>30</td>\n",
       "      <td>FEDBXXID-2</td>\n",
       "      <td>17-10-2022</td>\n",
       "      <td>5</td>\n",
       "      <td>Best Customers</td>\n",
       "    </tr>\n",
       "    <tr>\n",
       "      <th>3</th>\n",
       "      <td>CUSTIDXX-2768</td>\n",
       "      <td>PRODOXIID64</td>\n",
       "      <td>3</td>\n",
       "      <td>566</td>\n",
       "      <td>2023-01-25</td>\n",
       "      <td>2025-01-30T00:54:00.000Z</td>\n",
       "      <td>22</td>\n",
       "      <td>Karen Wise</td>\n",
       "      <td>F</td>\n",
       "      <td>87415 Hill Plaza</td>\n",
       "      <td>...</td>\n",
       "      <td>21-04-2017</td>\n",
       "      <td>CATOID00XX7</td>\n",
       "      <td>Snacks and Beverages</td>\n",
       "      <td>Nuts</td>\n",
       "      <td>8.98</td>\n",
       "      <td>53</td>\n",
       "      <td>FEDBXXID-3</td>\n",
       "      <td>05-12-2019</td>\n",
       "      <td>5</td>\n",
       "      <td>At-Risk Customers</td>\n",
       "    </tr>\n",
       "    <tr>\n",
       "      <th>4</th>\n",
       "      <td>CUSTIDXX-4036</td>\n",
       "      <td>PRODOXIID104</td>\n",
       "      <td>4</td>\n",
       "      <td>790</td>\n",
       "      <td>2023-04-19</td>\n",
       "      <td>2025-01-30T04:10:00.000Z</td>\n",
       "      <td>16</td>\n",
       "      <td>Tiffany Glover</td>\n",
       "      <td>M</td>\n",
       "      <td>67551 Pamela Rest Apt. 216</td>\n",
       "      <td>...</td>\n",
       "      <td>18-01-2018</td>\n",
       "      <td>CATOID00XX11</td>\n",
       "      <td>Baking Supplies</td>\n",
       "      <td>Vanilla Extract</td>\n",
       "      <td>1.29</td>\n",
       "      <td>52</td>\n",
       "      <td>FEDBXXID-4</td>\n",
       "      <td>16-04-2022</td>\n",
       "      <td>1</td>\n",
       "      <td>At-Risk Customers</td>\n",
       "    </tr>\n",
       "  </tbody>\n",
       "</table>\n",
       "<p>5 rows × 22 columns</p>\n",
       "</div>"
      ],
      "text/plain": [
       "       CustomerID     ProductID  TransactionID  PurchaseAmount PurchaseDate  \\\n",
       "0  CUSTIDXX-62149   PRODOXIID94              0             294   2023-06-20   \n",
       "1  CUSTIDXX-45943   PRODOXIID22              1             125   2019-09-03   \n",
       "2  CUSTIDXX-52617   PRODOXIID42              2             828   2017-08-26   \n",
       "3   CUSTIDXX-2768   PRODOXIID64              3             566   2023-01-25   \n",
       "4   CUSTIDXX-4036  PRODOXIID104              4             790   2023-04-19   \n",
       "\n",
       "               PurchaseTime  PurchaseQuantity     CustomerName Gender  \\\n",
       "0  2025-01-30T15:56:00.000Z                 2     Kayla Torres      M   \n",
       "1  2025-01-30T14:40:00.000Z                10      Brian Weiss      F   \n",
       "2  2025-01-30T12:34:00.000Z                 7  Samantha Wagner      F   \n",
       "3  2025-01-30T00:54:00.000Z                22       Karen Wise      F   \n",
       "4  2025-01-30T04:10:00.000Z                16   Tiffany Glover      M   \n",
       "\n",
       "                        Adress  ... RegistrationDate    CategoryID  \\\n",
       "0  141 Nicole Circles Apt. 507  ...       28-10-2021  CATOID00XX10   \n",
       "1  2510 Robert Garden Apt. 316  ...       16-01-2024   CATOID00XX3   \n",
       "2     973 Perez Pass Suite 421  ...       29-09-2022   CATOID00XX5   \n",
       "3             87415 Hill Plaza  ...       21-04-2017   CATOID00XX7   \n",
       "4   67551 Pamela Rest Apt. 216  ...       18-01-2018  CATOID00XX11   \n",
       "\n",
       "              Categories             Products Prices StockQuantity  \\\n",
       "0  Pasta Rice and Grains              Lentils   1.30            75   \n",
       "1       Meat and Seafood                 Pork   6.00             1   \n",
       "2           Frozen Foods         Frozen Meals  15.00            30   \n",
       "3   Snacks and Beverages                 Nuts   8.98            53   \n",
       "4        Baking Supplies      Vanilla Extract   1.29            52   \n",
       "\n",
       "   FeedbackID  FeedbackDate Ratings   Customer_Segment  \n",
       "0  FEDBXXID-0    12-03-2018       3  At-Risk Customers  \n",
       "1  FEDBXXID-1    26-09-2023       5  Dormant Customers  \n",
       "2  FEDBXXID-2    17-10-2022       5     Best Customers  \n",
       "3  FEDBXXID-3    05-12-2019       5  At-Risk Customers  \n",
       "4  FEDBXXID-4    16-04-2022       1  At-Risk Customers  \n",
       "\n",
       "[5 rows x 22 columns]"
      ]
     },
     "execution_count": 49,
     "metadata": {},
     "output_type": "execute_result"
    }
   ],
   "source": [
    "# Assuming your DataFrames are df (main DataFrame) and rfm_ts (with Customer_Segment)\n",
    "Segmented_Consolidated_df = df.merge(rfm_ts[['CustomerID', 'Customer_Segment']], on='CustomerID', how='left')\n",
    "\n",
    "# Display the result\n",
    "Segmented_Consolidated_df.head(5)"
   ]
  },
  {
   "cell_type": "code",
   "execution_count": 50,
   "metadata": {},
   "outputs": [
    {
     "data": {
      "text/html": [
       "<div>\n",
       "<style scoped>\n",
       "    .dataframe tbody tr th:only-of-type {\n",
       "        vertical-align: middle;\n",
       "    }\n",
       "\n",
       "    .dataframe tbody tr th {\n",
       "        vertical-align: top;\n",
       "    }\n",
       "\n",
       "    .dataframe thead th {\n",
       "        text-align: right;\n",
       "    }\n",
       "</style>\n",
       "<table border=\"1\" class=\"dataframe\">\n",
       "  <thead>\n",
       "    <tr style=\"text-align: right;\">\n",
       "      <th></th>\n",
       "      <th>CustomerID</th>\n",
       "      <th>Recency</th>\n",
       "      <th>Frequency</th>\n",
       "      <th>Monetary</th>\n",
       "      <th>R_Score</th>\n",
       "      <th>F_Score</th>\n",
       "      <th>M_Score</th>\n",
       "      <th>Cluster</th>\n",
       "      <th>Customer_Segment</th>\n",
       "    </tr>\n",
       "  </thead>\n",
       "  <tbody>\n",
       "    <tr>\n",
       "      <th>0</th>\n",
       "      <td>CUSTIDXX-0</td>\n",
       "      <td>78</td>\n",
       "      <td>3</td>\n",
       "      <td>2991</td>\n",
       "      <td>2</td>\n",
       "      <td>2</td>\n",
       "      <td>2</td>\n",
       "      <td>3</td>\n",
       "      <td>Best Customers</td>\n",
       "    </tr>\n",
       "    <tr>\n",
       "      <th>1</th>\n",
       "      <td>CUSTIDXX-1</td>\n",
       "      <td>2024</td>\n",
       "      <td>1</td>\n",
       "      <td>32</td>\n",
       "      <td>1</td>\n",
       "      <td>1</td>\n",
       "      <td>1</td>\n",
       "      <td>2</td>\n",
       "      <td>Dormant Customers</td>\n",
       "    </tr>\n",
       "    <tr>\n",
       "      <th>2</th>\n",
       "      <td>CUSTIDXX-10</td>\n",
       "      <td>522</td>\n",
       "      <td>2</td>\n",
       "      <td>1925</td>\n",
       "      <td>2</td>\n",
       "      <td>1</td>\n",
       "      <td>2</td>\n",
       "      <td>4</td>\n",
       "      <td>At-Risk Customers</td>\n",
       "    </tr>\n",
       "    <tr>\n",
       "      <th>3</th>\n",
       "      <td>CUSTIDXX-100</td>\n",
       "      <td>235</td>\n",
       "      <td>4</td>\n",
       "      <td>4581</td>\n",
       "      <td>2</td>\n",
       "      <td>2</td>\n",
       "      <td>2</td>\n",
       "      <td>3</td>\n",
       "      <td>Best Customers</td>\n",
       "    </tr>\n",
       "    <tr>\n",
       "      <th>4</th>\n",
       "      <td>CUSTIDXX-10000</td>\n",
       "      <td>504</td>\n",
       "      <td>2</td>\n",
       "      <td>2313</td>\n",
       "      <td>2</td>\n",
       "      <td>1</td>\n",
       "      <td>2</td>\n",
       "      <td>4</td>\n",
       "      <td>At-Risk Customers</td>\n",
       "    </tr>\n",
       "  </tbody>\n",
       "</table>\n",
       "</div>"
      ],
      "text/plain": [
       "       CustomerID  Recency  Frequency  Monetary  R_Score  F_Score  M_Score  \\\n",
       "0      CUSTIDXX-0       78          3      2991        2        2        2   \n",
       "1      CUSTIDXX-1     2024          1        32        1        1        1   \n",
       "2     CUSTIDXX-10      522          2      1925        2        1        2   \n",
       "3    CUSTIDXX-100      235          4      4581        2        2        2   \n",
       "4  CUSTIDXX-10000      504          2      2313        2        1        2   \n",
       "\n",
       "   Cluster   Customer_Segment  \n",
       "0        3     Best Customers  \n",
       "1        2  Dormant Customers  \n",
       "2        4  At-Risk Customers  \n",
       "3        3     Best Customers  \n",
       "4        4  At-Risk Customers  "
      ]
     },
     "execution_count": 50,
     "metadata": {},
     "output_type": "execute_result"
    }
   ],
   "source": [
    "rfm_ts.head(5)"
   ]
  },
  {
   "cell_type": "code",
   "execution_count": null,
   "metadata": {},
   "outputs": [],
   "source": []
  }
 ],
 "metadata": {
  "kernelspec": {
   "display_name": "Python 3 (ipykernel)",
   "language": "python",
   "name": "python3"
  },
  "language_info": {
   "codemirror_mode": {
    "name": "ipython",
    "version": 3
   },
   "file_extension": ".py",
   "mimetype": "text/x-python",
   "name": "python",
   "nbconvert_exporter": "python",
   "pygments_lexer": "ipython3",
   "version": "3.12.2"
  }
 },
 "nbformat": 4,
 "nbformat_minor": 4
}
